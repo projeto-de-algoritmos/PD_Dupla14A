{
 "cells": [
  {
   "cell_type": "code",
   "execution_count": 1,
   "metadata": {},
   "outputs": [],
   "source": [
    "import ipywidgets as widgets"
   ]
  },
  {
   "cell_type": "code",
   "execution_count": 2,
   "metadata": {},
   "outputs": [],
   "source": [
    "def longestPalindrome(word, reverse_word, m, word_lenght, LCS_lenght):\n",
    "    if m == 0 or word_lenght == 0:\n",
    "        return \"\"\n",
    "    if word[m - 1] == reverse_word[word_lenght - 1]:\n",
    "        return longestPalindrome(word, reverse_word, m - 1, word_lenght - 1, LCS_lenght) + word[m - 1]\n",
    "\n",
    "    if LCS_lenght[m - 1][word_lenght] > LCS_lenght[m][word_lenght - 1]:\n",
    "        return longestPalindrome(word, reverse_word, m - 1, word_lenght, LCS_lenght)\n",
    " \n",
    "    return longestPalindrome(word, reverse_word, m, word_lenght - 1, LCS_lenght)\n",
    " \n",
    " \n",
    "def LCSLength(word, reverse_word, word_lenght, LCS_lenght):\n",
    "    for i in range(1, word_lenght + 1):\n",
    "        for j in range(1, word_lenght + 1):\n",
    "            if word[i - 1] == reverse_word[j - 1]:\n",
    "                LCS_lenght[i][j] = LCS_lenght[i - 1][j - 1] + 1\n",
    "            else:\n",
    "                LCS_lenght[i][j] = max(LCS_lenght[i - 1][j], LCS_lenght[i][j - 1])\n",
    "    return LCS_lenght[word_lenght][word_lenght]"
   ]
  },
  {
   "cell_type": "markdown",
   "metadata": {},
   "source": [
    "# A maior subsequência palindrômica\n",
    "A maior subsequência palindrômica é um problema que consiste em achar a maior subsequência de uma _string_ que também é um palíndromo"
   ]
  },
  {
   "cell_type": "code",
   "execution_count": 3,
   "metadata": {},
   "outputs": [],
   "source": [
    "text_box = widgets.Text(\n",
    "    placeholder='Digite uma palavra',\n",
    "    description='Palavra:',\n",
    "    disabled=False\n",
    ")\n",
    "run_button = widgets.Button(\n",
    "    description='Palíndromo!',\n",
    "    disabled=False,\n",
    "    button_style='success', # 'success', 'info', 'warning', 'danger' or ''\n",
    "    tooltip='Encontrar substring',\n",
    "    icon='check' \n",
    ")\n",
    "run_output = widgets.Output()\n",
    "\n",
    "\n",
    "def on_run_clicked(b):\n",
    "    word = text_box.get_interact_value()\n",
    "    \n",
    "    reverse_word = word[::-1]\n",
    " \n",
    "    LCS_lenght = [[0 for x in range(len(word) + 1)] for y in range(len(word) + 1)]\n",
    "    run_output.clear_output()\n",
    "    with run_output:\n",
    "        print(\"O tamanho da maior subsequência palindrômica é: \",\n",
    "          LCSLength(word, reverse_word, len(word), LCS_lenght))\n",
    "        print(\"A maior subsequência palindrômica é: \",\n",
    "          longestPalindrome(word, reverse_word, len(word), len(word), LCS_lenght))\n",
    "\n",
    "run_button.on_click(on_run_clicked)"
   ]
  },
  {
   "cell_type": "code",
   "execution_count": 4,
   "metadata": {
    "scrolled": false
   },
   "outputs": [
    {
     "data": {
      "application/vnd.jupyter.widget-view+json": {
       "model_id": "247214e72f614f4ebd0d8fd8998cacc8",
       "version_major": 2,
       "version_minor": 0
      },
      "text/plain": [
       "Text(value='', description='Palavra:', placeholder='Digite uma palavra')"
      ]
     },
     "metadata": {},
     "output_type": "display_data"
    },
    {
     "data": {
      "application/vnd.jupyter.widget-view+json": {
       "model_id": "f60af927c48d4c688bce9af8937c9589",
       "version_major": 2,
       "version_minor": 0
      },
      "text/plain": [
       "Button(button_style='success', description='Palíndromo!', icon='check', style=ButtonStyle(), tooltip='Encontra…"
      ]
     },
     "metadata": {},
     "output_type": "display_data"
    },
    {
     "data": {
      "application/vnd.jupyter.widget-view+json": {
       "model_id": "b457b790bc1a4427bc622be181232455",
       "version_major": 2,
       "version_minor": 0
      },
      "text/plain": [
       "Output()"
      ]
     },
     "metadata": {},
     "output_type": "display_data"
    }
   ],
   "source": [
    "display(text_box, run_button, run_output)"
   ]
  },
  {
   "cell_type": "markdown",
   "metadata": {},
   "source": [
    "# Partition problem"
   ]
  },
  {
   "cell_type": "markdown",
   "metadata": {},
   "source": [
    "O problema de partição é determinar se um determinado conjunto pode ser particionado em dois subconjuntos de forma que a soma dos elementos em ambos os subconjuntos seja a mesma.\n",
    "\n",
    "A seguir estão as duas etapas principais para resolver esse problema:\n",
    "1) Calcular a soma da matriz. Se soma for ímpar, não pode haver dois subconjuntos com soma igual, portanto, retorna-se `False`.<br>\n",
    "\n",
    "2) Se a soma dos elementos da matriz for par, calcula-se  `(soma / 2)` e encontra-se um subconjunto da matriz com soma igual a `(soma / 2)`.\n",
    "\n",
    "O primeiro passo é simples.\n",
    "A segunda etapa é crucial, ela é resolvida utilizando Programação Dinâmica."
   ]
  },
  {
   "cell_type": "code",
   "execution_count": 8,
   "metadata": {},
   "outputs": [],
   "source": [
    "def subsetSum(A, n, sum):\n",
    "    if sum == 0:\n",
    "        return True\n",
    " \n",
    "\n",
    "    if n < 0 or sum < 0:\n",
    "        return False\n",
    " \n",
    "    include = subsetSum(A, n - 1, sum - A[n])\n",
    " \n",
    "    if include:\n",
    "        return True\n",
    " \n",
    "    exclude = subsetSum(A, n - 1, sum)\n",
    " \n",
    " \n",
    "    return exclude\n",
    "\n",
    "def partition(A):\n",
    "    total = sum(A)\n",
    "    \n",
    "    return (total & 1) == 0 and subsetSum(A, len(A) - 1, total/2)"
   ]
  },
  {
   "cell_type": "code",
   "execution_count": 66,
   "metadata": {},
   "outputs": [],
   "source": [
    "style = {'description_width': 'initial'}\n",
    "list_value_addition = widgets.BoundedIntText(\n",
    "    value=7,\n",
    "    min=0,\n",
    "    max=100,\n",
    "    step=1,\n",
    "    description='Value to append to the list:',\n",
    "    disabled=False,\n",
    "    style = style\n",
    ")\n",
    "\n",
    "append_list_button = widgets.Button(\n",
    "    description='Append to the partition List!',\n",
    "    disabled=False,\n",
    "    button_style='info', # 'success', 'info', 'warning', 'danger' or ''\n",
    "    tooltip='',\n",
    "    icon='fa-plus',\n",
    "    layout=widgets.Layout(width='30%', height='40px')\n",
    ")\n",
    "list_ = []\n",
    "\n",
    "partition_run_button = widgets.Button(\n",
    "    description='Partition!',\n",
    "    disabled=False,\n",
    "    button_style='success', # 'success', 'info', 'warning', 'danger' or ''\n",
    "    tooltip='',\n",
    "    icon='check',\n",
    "    style = style\n",
    ")\n",
    "\n",
    "\n",
    "partition_run_output = widgets.Output()\n",
    "append_list_output = widgets.Output() \n",
    "\n",
    "\n",
    "def on_partition_run_clicked(b):\n",
    "    with partition_run_output:\n",
    "        partition_run_output.clear_output()\n",
    "        if len(list_) >0:\n",
    "            print(partition(list_))\n",
    "        else:   \n",
    "            print(\"Append some itens to the partition list!\")\n",
    "        \n",
    "def on_append_clicked(b):\n",
    "    list_.append(list_value_addition.get_interact_value())\n",
    "    \n",
    "    with append_list_output:\n",
    "        append_list_output.clear_output()\n",
    "        print(list_)\n",
    "\n",
    "\n",
    "partition_run_button.on_click(on_partition_run_clicked)\n",
    "append_list_button.on_click(on_append_clicked)"
   ]
  },
  {
   "cell_type": "code",
   "execution_count": 67,
   "metadata": {},
   "outputs": [
    {
     "data": {
      "application/vnd.jupyter.widget-view+json": {
       "model_id": "bd6169c9c0b94e42884e66f185ec6062",
       "version_major": 2,
       "version_minor": 0
      },
      "text/plain": [
       "BoundedIntText(value=7, description='Value to append to the list:', style=DescriptionStyle(description_width='…"
      ]
     },
     "metadata": {},
     "output_type": "display_data"
    },
    {
     "data": {
      "application/vnd.jupyter.widget-view+json": {
       "model_id": "c761c2ebaacb44f8a56087b6e70dd706",
       "version_major": 2,
       "version_minor": 0
      },
      "text/plain": [
       "Button(button_style='info', description='Append to the partition List!', icon='plus', layout=Layout(height='40…"
      ]
     },
     "metadata": {},
     "output_type": "display_data"
    },
    {
     "data": {
      "application/vnd.jupyter.widget-view+json": {
       "model_id": "50e8a513c7a740a1a9e460be49d8a9a3",
       "version_major": 2,
       "version_minor": 0
      },
      "text/plain": [
       "Output()"
      ]
     },
     "metadata": {},
     "output_type": "display_data"
    },
    {
     "data": {
      "application/vnd.jupyter.widget-view+json": {
       "model_id": "85ce10e61d8342afa56d99a86a81db78",
       "version_major": 2,
       "version_minor": 0
      },
      "text/plain": [
       "Button(button_style='success', description='Partition!', icon='check', style=ButtonStyle())"
      ]
     },
     "metadata": {},
     "output_type": "display_data"
    },
    {
     "data": {
      "application/vnd.jupyter.widget-view+json": {
       "model_id": "b2cacb6bca9944ffbed33fdb67fb34a0",
       "version_major": 2,
       "version_minor": 0
      },
      "text/plain": [
       "Output()"
      ]
     },
     "metadata": {},
     "output_type": "display_data"
    }
   ],
   "source": [
    "display(list_value_addition, append_list_button,append_list_output, partition_run_button, partition_run_output)"
   ]
  }
 ],
 "metadata": {
  "kernelspec": {
   "display_name": "dcenv",
   "language": "python",
   "name": "dcenv"
  },
  "language_info": {
   "codemirror_mode": {
    "name": "ipython",
    "version": 3
   },
   "file_extension": ".py",
   "mimetype": "text/x-python",
   "name": "python",
   "nbconvert_exporter": "python",
   "pygments_lexer": "ipython3",
   "version": "3.8.6"
  }
 },
 "nbformat": 4,
 "nbformat_minor": 4
}

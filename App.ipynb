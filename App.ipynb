{
 "cells": [
  {
   "cell_type": "code",
   "execution_count": 19,
   "metadata": {},
   "outputs": [],
   "source": [
    "import ipywidgets as widgets"
   ]
  },
  {
   "cell_type": "code",
   "execution_count": 20,
   "metadata": {},
   "outputs": [],
   "source": [
    "def longestPalindrome(word, reverse_word, m, word_lenght, LCS_lenght):\n",
    "    if m == 0 or word_lenght == 0:\n",
    "        return \"\"\n",
    "    if word[m - 1] == reverse_word[word_lenght - 1]:\n",
    "        return longestPalindrome(word, reverse_word, m - 1, word_lenght - 1, LCS_lenght) + word[m - 1]\n",
    "\n",
    "    if LCS_lenght[m - 1][word_lenght] > LCS_lenght[m][word_lenght - 1]:\n",
    "        return longestPalindrome(word, reverse_word, m - 1, word_lenght, LCS_lenght)\n",
    " \n",
    "    return longestPalindrome(word, reverse_word, m, word_lenght - 1, LCS_lenght)\n",
    " \n",
    " \n",
    "def LCSLength(word, reverse_word, word_lenght, LCS_lenght):\n",
    "    for i in range(1, word_lenght + 1):\n",
    "        for j in range(1, word_lenght + 1):\n",
    "            if word[i - 1] == reverse_word[j - 1]:\n",
    "                LCS_lenght[i][j] = LCS_lenght[i - 1][j - 1] + 1\n",
    "            else:\n",
    "                LCS_lenght[i][j] = max(LCS_lenght[i - 1][j], LCS_lenght[i][j - 1])\n",
    "    return LCS_lenght[word_lenght][word_lenght]"
   ]
  },
  {
   "cell_type": "markdown",
   "metadata": {},
   "source": [
    "# A maior subsequência palindrômica\n",
    "A maior subsequência palindrômica é um problema que consiste em achar a maior subsequência de uma _string_ que também é um palíndromo"
   ]
  },
  {
   "cell_type": "code",
   "execution_count": 21,
   "metadata": {},
   "outputs": [],
   "source": [
    "text_box = widgets.Text(\n",
    "    placeholder='Digite uma palavra',\n",
    "    description='Palavra:',\n",
    "    disabled=False\n",
    ")\n",
    "run_button = widgets.Button(\n",
    "    description='Palíndromo!',\n",
    "    disabled=False,\n",
    "    button_style='success', # 'success', 'info', 'warning', 'danger' or ''\n",
    "    tooltip='Encontrar substring',\n",
    "    icon='check' \n",
    ")\n",
    "run_output = widgets.Output()\n",
    "\n",
    "\n",
    "def on_run_clicked(b):\n",
    "    word = text_box.get_interact_value()\n",
    "    \n",
    "    reverse_word = word[::-1]\n",
    " \n",
    "    LCS_lenght = [[0 for x in range(len(word) + 1)] for y in range(len(word) + 1)]\n",
    "    run_output.clear_output()\n",
    "    with run_output:\n",
    "        print(\"O tamanho da maior subsequência palindrômica é: \",\n",
    "          LCSLength(word, reverse_word, len(word), LCS_lenght))\n",
    "        print(\"A maior subsequência palindrômica é: \",\n",
    "          longestPalindrome(word, reverse_word, len(word), len(word), LCS_lenght))\n",
    "\n",
    "run_button.on_click(on_run_clicked)"
   ]
  },
  {
   "cell_type": "code",
   "execution_count": 22,
   "metadata": {
    "scrolled": false
   },
   "outputs": [
    {
     "data": {
      "application/vnd.jupyter.widget-view+json": {
       "model_id": "e40dc87d0457445b8cee4a10df091dd3",
       "version_major": 2,
       "version_minor": 0
      },
      "text/plain": [
       "Text(value='', description='Palavra:', placeholder='Digite uma palavra')"
      ]
     },
     "metadata": {},
     "output_type": "display_data"
    },
    {
     "data": {
      "application/vnd.jupyter.widget-view+json": {
       "model_id": "0e53392c06b54e8a938ea194255dd01c",
       "version_major": 2,
       "version_minor": 0
      },
      "text/plain": [
       "Button(button_style='success', description='Palíndromo!', icon='check', style=ButtonStyle(), tooltip='Encontra…"
      ]
     },
     "metadata": {},
     "output_type": "display_data"
    },
    {
     "data": {
      "application/vnd.jupyter.widget-view+json": {
       "model_id": "87a5b525c91d41bd8c5129dbb287c4c9",
       "version_major": 2,
       "version_minor": 0
      },
      "text/plain": [
       "Output()"
      ]
     },
     "metadata": {},
     "output_type": "display_data"
    }
   ],
   "source": [
    "display(text_box, run_button, run_output)"
   ]
  }
 ],
 "metadata": {
  "kernelspec": {
   "display_name": "PAenv",
   "language": "python",
   "name": "paenv"
  },
  "language_info": {
   "codemirror_mode": {
    "name": "ipython",
    "version": 3
   },
   "file_extension": ".py",
   "mimetype": "text/x-python",
   "name": "python",
   "nbconvert_exporter": "python",
   "pygments_lexer": "ipython3",
   "version": "3.8.5"
  }
 },
 "nbformat": 4,
 "nbformat_minor": 4
}
